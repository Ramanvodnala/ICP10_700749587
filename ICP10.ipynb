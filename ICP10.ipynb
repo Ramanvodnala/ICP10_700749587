{
  "cells": [
    {
      "cell_type": "code",
      "execution_count": 1,
      "metadata": {
        "id": "wpvpeCcR3huA"
      },
      "outputs": [],
      "source": [
        "import pandas as pd #Basic packages for creating dataframes and loading dataset\n",
        "import numpy as np\n",
        "\n",
        "import matplotlib.pyplot as plt #Package for visualization\n",
        "\n",
        "import re #importing package for Regular expression operations\n",
        "\n",
        "from sklearn.model_selection import train_test_split #Package for splitting the data\n",
        "\n",
        "from sklearn.preprocessing import LabelEncoder #Package for conversion of categorical to Numerical\n",
        "\n",
        "from keras.preprocessing.text import Tokenizer #Tokenization\n",
        "from tensorflow.keras.preprocessing.sequence import pad_sequences #Add zeros or crop based on the length\n",
        "from keras.models import Sequential #Sequential Neural Network\n",
        "from keras.layers import Dense, Embedding, LSTM, SpatialDropout1D #For layers in Neural Network\n",
        "from keras.utils.np_utils import to_categorical"
      ]
    },
    {
      "cell_type": "code",
      "execution_count": 2,
      "metadata": {
        "colab": {
          "base_uri": "https://localhost:8080/"
        },
        "id": "ItOvL8YH4D-U",
        "outputId": "e16c8ece-a1e6-46da-d7b8-b0634454fda9"
      },
      "outputs": [
        {
          "output_type": "stream",
          "name": "stdout",
          "text": [
            "Mounted at /content/gdrive\n"
          ]
        }
      ],
      "source": [
        "from google.colab import drive\n",
        "drive.mount('/content/gdrive')"
      ]
    },
    {
      "cell_type": "code",
      "execution_count": 3,
      "metadata": {
        "colab": {
          "base_uri": "https://localhost:8080/"
        },
        "id": "E8xNYmoi5d_y",
        "outputId": "ab495263-f5fc-4841-9aff-12f1609dec18"
      },
      "outputs": [
        {
          "output_type": "stream",
          "name": "stdout",
          "text": [
            "/content/gdrive/My Drive/NN&DL/code\n"
          ]
        }
      ],
      "source": [
        "cd /content/gdrive/My Drive/NN&DL/code"
      ]
    },
    {
      "cell_type": "code",
      "execution_count": 4,
      "metadata": {
        "colab": {
          "base_uri": "https://localhost:8080/"
        },
        "id": "qSg66pDR4MzS",
        "outputId": "e614edaf-5271-47d8-b7a3-774605f177a7"
      },
      "outputs": [
        {
          "output_type": "stream",
          "name": "stderr",
          "text": [
            "<ipython-input-4-7586a078bb0c>:11: SettingWithCopyWarning: \n",
            "A value is trying to be set on a copy of a slice from a DataFrame.\n",
            "Try using .loc[row_indexer,col_indexer] = value instead\n",
            "\n",
            "See the caveats in the documentation: https://pandas.pydata.org/pandas-docs/stable/user_guide/indexing.html#returning-a-view-versus-a-copy\n",
            "  data['text'] = data['text'].apply(lambda x: x.lower())\n",
            "<ipython-input-4-7586a078bb0c>:12: SettingWithCopyWarning: \n",
            "A value is trying to be set on a copy of a slice from a DataFrame.\n",
            "Try using .loc[row_indexer,col_indexer] = value instead\n",
            "\n",
            "See the caveats in the documentation: https://pandas.pydata.org/pandas-docs/stable/user_guide/indexing.html#returning-a-view-versus-a-copy\n",
            "  data['text'] = data['text'].apply((lambda x: re.sub('[^a-zA-z0-9\\s]', '', x)))\n"
          ]
        }
      ],
      "source": [
        "import pandas as pd\n",
        "\n",
        "# Load the dataset as a Pandas DataFrame\n",
        "dataset = pd.read_csv('Sentiment.csv')\n",
        "\n",
        "# Select only the necessary columns 'text' and 'sentiment'\n",
        "mask = dataset.columns.isin(['text', 'sentiment'])\n",
        "data = dataset.loc[:, mask]\n",
        "\n",
        "# Keeping only the necessary columns\n",
        "data['text'] = data['text'].apply(lambda x: x.lower())\n",
        "data['text'] = data['text'].apply((lambda x: re.sub('[^a-zA-z0-9\\s]', '', x)))"
      ]
    },
    {
      "cell_type": "code",
      "execution_count": 5,
      "metadata": {
        "colab": {
          "base_uri": "https://localhost:8080/"
        },
        "id": "aG8pViYA8UH5",
        "outputId": "164c09fb-93f4-4984-949f-de666c1d7337"
      },
      "outputs": [
        {
          "output_type": "stream",
          "name": "stdout",
          "text": [
            "291/291 - 55s - loss: 0.8220 - accuracy: 0.6458 - 55s/epoch - 190ms/step\n",
            "144/144 - 3s - loss: 0.7499 - accuracy: 0.6745 - 3s/epoch - 23ms/step\n",
            "0.7499268651008606\n",
            "0.6745303869247437\n"
          ]
        }
      ],
      "source": [
        "for idx, row in data.iterrows():\n",
        "    row[0] = row[0].replace('rt', ' ') #Removing Retweets\n",
        "    max_fatures = 2000\n",
        "tokenizer = Tokenizer(num_words=max_fatures, split=' ') #Maximum words is 2000 to tokenize sentence\n",
        "tokenizer.fit_on_texts(data['text'].values)\n",
        "X = tokenizer.texts_to_sequences(data['text'].values) #taking values to feature matrix\n",
        "X = pad_sequences(X) #Padding the feature matrix\n",
        "\n",
        "embed_dim = 128 #Dimension of the Embedded layer\n",
        "lstm_out = 196 #Long short-term memory (LSTM) layer neurons\n",
        "def createmodel():\n",
        "    model = Sequential() #Sequential Neural Network\n",
        "    model.add(Embedding(max_fatures, embed_dim,input_length = X.shape[1])) #input dimension 2000 Neurons, output dimension 128 Neurons\n",
        "    model.add(LSTM(lstm_out, dropout=0.2, recurrent_dropout=0.2)) #Drop out 20%, 196 output Neurons, recurrent dropout 20%\n",
        "    model.add(Dense(3,activation='softmax')) #3 output neurons[positive, Neutral, Negative], softmax as activation\n",
        "    model.compile(loss = 'categorical_crossentropy', optimizer='adam',metrics = ['accuracy']) #Compiling the model\n",
        "    return model\n",
        "# print(model.summary())\n",
        "labelencoder = LabelEncoder() #Applying label Encoding on the label matrix\n",
        "integer_encoded = labelencoder.fit_transform(data['sentiment']) #fitting the model\n",
        "y = to_categorical(integer_encoded)\n",
        "X_train, X_test, Y_train, Y_test = train_test_split(X,y, test_size = 0.33, random_state = 42) #67% training data, 33% test data split\n",
        "batch_size = 32 #Batch size 32\n",
        "model = createmodel() #Function call to Sequential Neural Network\n",
        "model.fit(X_train, Y_train, epochs = 1, batch_size=batch_size, verbose = 2) #verbose the higher, the more messages\n",
        "score,acc = model.evaluate(X_test,Y_test,verbose=2,batch_size=batch_size) #evaluating the model\n",
        "print(score)\n",
        "print(acc)"
      ]
    },
    {
      "cell_type": "code",
      "execution_count": 6,
      "metadata": {
        "colab": {
          "base_uri": "https://localhost:8080/"
        },
        "id": "COjYOCdU9J_V",
        "outputId": "d316a137-7531-4278-d481-606021897692"
      },
      "outputs": [
        {
          "output_type": "stream",
          "name": "stdout",
          "text": [
            "['loss', 'accuracy']\n"
          ]
        }
      ],
      "source": [
        "print(model.metrics_names) #metrics of the model"
      ]
    },
    {
      "cell_type": "code",
      "execution_count": 7,
      "metadata": {
        "id": "Y5Qb-Utm9L3V"
      },
      "outputs": [],
      "source": [
        "#1. Save the model and use the saved model to predict on new text data (ex, “A lot of good things are happening. We are respected again throughout the world, and that's a great thing.@realDonaldTrump”)"
      ]
    },
    {
      "cell_type": "code",
      "execution_count": 8,
      "metadata": {
        "id": "HJbkwdrI9RM_"
      },
      "outputs": [],
      "source": [
        "model.save('sentimentAnalysis.h5') #Saving the model"
      ]
    },
    {
      "cell_type": "code",
      "execution_count": 9,
      "metadata": {
        "id": "TBar1o_-9XLe"
      },
      "outputs": [],
      "source": [
        "from keras.models import load_model #Importing the package for importing the saved model\n",
        "model= load_model('sentimentAnalysis.h5') #loading the saved model"
      ]
    },
    {
      "cell_type": "code",
      "execution_count": 10,
      "metadata": {
        "colab": {
          "base_uri": "https://localhost:8080/"
        },
        "id": "6Kn1ST-v9beP",
        "outputId": "66364b7e-7ee4-4671-e026-d083b158fb07"
      },
      "outputs": [
        {
          "output_type": "stream",
          "name": "stdout",
          "text": [
            "[1 2 1 ... 2 0 2]\n",
            "0         Neutral\n",
            "1        Positive\n",
            "2         Neutral\n",
            "3        Positive\n",
            "4        Positive\n",
            "           ...   \n",
            "13866    Negative\n",
            "13867    Positive\n",
            "13868    Positive\n",
            "13869    Negative\n",
            "13870    Positive\n",
            "Name: sentiment, Length: 13871, dtype: object\n"
          ]
        }
      ],
      "source": [
        "print(integer_encoded)\n",
        "print(data['sentiment'])"
      ]
    },
    {
      "cell_type": "code",
      "execution_count": 11,
      "metadata": {
        "colab": {
          "base_uri": "https://localhost:8080/"
        },
        "id": "3PmO0W3y9fXs",
        "outputId": "7d64d41a-9aaf-4429-ad0a-8aed4e72e402"
      },
      "outputs": [
        {
          "output_type": "stream",
          "name": "stdout",
          "text": [
            "1/1 - 0s - 328ms/epoch - 328ms/step\n",
            "[0.5978086  0.1464446  0.25574684]\n",
            "Neutral\n"
          ]
        }
      ],
      "source": [
        "# Predicting on the text data\n",
        "sentence = ['A lot of good things are happening. We are respected again throughout the world, and that is a great thing.@realDonaldTrump']\n",
        "sentence = tokenizer.texts_to_sequences(sentence) # Tokenizing the sentence\n",
        "sentence = pad_sequences(sentence, maxlen=28, dtype='int32', value=0) # Padding the sentence\n",
        "sentiment_probs = model.predict(sentence, batch_size=1, verbose=2)[0] # Predicting the sentence text\n",
        "sentiment = np.argmax(sentiment_probs)\n",
        "\n",
        "print(sentiment_probs)\n",
        "if sentiment == 0:\n",
        "    print(\"Neutral\")\n",
        "elif sentiment < 0:\n",
        "    print(\"Negative\")\n",
        "elif sentiment > 0:\n",
        "    print(\"Positive\")\n",
        "else:\n",
        "    print(\"Cannot be determined\")\n"
      ]
    },
    {
      "cell_type": "code",
      "execution_count": 12,
      "metadata": {
        "id": "P6_Dxtcl9jyr"
      },
      "outputs": [],
      "source": [
        "#2. Apply GridSearchCV on the source code provided in the class"
      ]
    },
    {
      "cell_type": "code",
      "execution_count": 13,
      "metadata": {
        "colab": {
          "base_uri": "https://localhost:8080/"
        },
        "id": "0NBZ3-vd9ntz",
        "outputId": "3061b5dd-59b7-44d2-f571-07e064acb1f0"
      },
      "outputs": [
        {
          "metadata": {
            "tags": null
          },
          "name": "stderr",
          "output_type": "stream",
          "text": [
            "<ipython-input-13-6c99b49150f4>:4: DeprecationWarning: KerasClassifier is deprecated, use Sci-Keras (https://github.com/adriangb/scikeras) instead. See https://www.adriangb.com/scikeras/stable/migration.html for help migrating.\n",
            "  model = KerasClassifier(build_fn=createmodel,verbose=2) #initiating model to test performance by applying multiple hyper parameters\n"
          ]
        },
        {
          "output_type": "stream",
          "name": "stdout",
          "text": [
            "744/744 - 112s - loss: 0.8336 - accuracy: 0.6415 - 112s/epoch - 150ms/step\n",
            "186/186 - 3s - loss: 0.7542 - accuracy: 0.6681 - 3s/epoch - 15ms/step\n",
            "744/744 - 110s - loss: 0.8222 - accuracy: 0.6435 - 110s/epoch - 148ms/step\n",
            "186/186 - 5s - loss: 0.7756 - accuracy: 0.6751 - 5s/epoch - 28ms/step\n",
            "744/744 - 107s - loss: 0.8227 - accuracy: 0.6484 - 107s/epoch - 144ms/step\n",
            "186/186 - 3s - loss: 0.7579 - accuracy: 0.6864 - 3s/epoch - 15ms/step\n",
            "744/744 - 109s - loss: 0.8255 - accuracy: 0.6447 - 109s/epoch - 147ms/step\n",
            "186/186 - 3s - loss: 0.7507 - accuracy: 0.6781 - 3s/epoch - 15ms/step\n",
            "744/744 - 111s - loss: 0.8088 - accuracy: 0.6490 - 111s/epoch - 149ms/step\n",
            "186/186 - 3s - loss: 0.7706 - accuracy: 0.6744 - 3s/epoch - 15ms/step\n",
            "Epoch 1/2\n",
            "744/744 - 112s - loss: 0.8235 - accuracy: 0.6508 - 112s/epoch - 151ms/step\n",
            "Epoch 2/2\n",
            "744/744 - 107s - loss: 0.6783 - accuracy: 0.7119 - 107s/epoch - 144ms/step\n",
            "186/186 - 3s - loss: 0.7295 - accuracy: 0.6735 - 3s/epoch - 15ms/step\n",
            "Epoch 1/2\n",
            "744/744 - 110s - loss: 0.8244 - accuracy: 0.6430 - 110s/epoch - 148ms/step\n",
            "Epoch 2/2\n",
            "744/744 - 103s - loss: 0.6846 - accuracy: 0.7115 - 103s/epoch - 139ms/step\n",
            "186/186 - 3s - loss: 0.7365 - accuracy: 0.6832 - 3s/epoch - 15ms/step\n",
            "Epoch 1/2\n",
            "744/744 - 106s - loss: 0.8238 - accuracy: 0.6451 - 106s/epoch - 142ms/step\n",
            "Epoch 2/2\n",
            "744/744 - 103s - loss: 0.6739 - accuracy: 0.7163 - 103s/epoch - 139ms/step\n",
            "186/186 - 3s - loss: 0.7438 - accuracy: 0.6923 - 3s/epoch - 19ms/step\n",
            "Epoch 1/2\n",
            "744/744 - 109s - loss: 0.8258 - accuracy: 0.6461 - 109s/epoch - 147ms/step\n",
            "Epoch 2/2\n",
            "744/744 - 105s - loss: 0.6752 - accuracy: 0.7099 - 105s/epoch - 142ms/step\n",
            "186/186 - 3s - loss: 0.7707 - accuracy: 0.6755 - 3s/epoch - 15ms/step\n",
            "Epoch 1/2\n",
            "744/744 - 107s - loss: 0.8202 - accuracy: 0.6452 - 107s/epoch - 144ms/step\n",
            "Epoch 2/2\n",
            "744/744 - 104s - loss: 0.6685 - accuracy: 0.7176 - 104s/epoch - 139ms/step\n",
            "186/186 - 3s - loss: 0.7771 - accuracy: 0.6642 - 3s/epoch - 17ms/step\n",
            "372/372 - 60s - loss: 0.8359 - accuracy: 0.6422 - 60s/epoch - 161ms/step\n",
            "93/93 - 2s - loss: 0.7486 - accuracy: 0.6778 - 2s/epoch - 20ms/step\n",
            "372/372 - 63s - loss: 0.8254 - accuracy: 0.6435 - 63s/epoch - 170ms/step\n",
            "93/93 - 2s - loss: 0.7728 - accuracy: 0.6654 - 2s/epoch - 21ms/step\n",
            "372/372 - 62s - loss: 0.8310 - accuracy: 0.6435 - 62s/epoch - 166ms/step\n",
            "93/93 - 2s - loss: 0.7656 - accuracy: 0.6697 - 2s/epoch - 21ms/step\n",
            "372/372 - 59s - loss: 0.8250 - accuracy: 0.6409 - 59s/epoch - 159ms/step\n",
            "93/93 - 3s - loss: 0.7542 - accuracy: 0.6642 - 3s/epoch - 28ms/step\n",
            "372/372 - 63s - loss: 0.8206 - accuracy: 0.6409 - 63s/epoch - 170ms/step\n",
            "93/93 - 2s - loss: 0.7742 - accuracy: 0.6776 - 2s/epoch - 21ms/step\n",
            "Epoch 1/2\n",
            "372/372 - 61s - loss: 0.8294 - accuracy: 0.6429 - 61s/epoch - 164ms/step\n",
            "Epoch 2/2\n",
            "372/372 - 57s - loss: 0.6777 - accuracy: 0.7107 - 57s/epoch - 153ms/step\n",
            "93/93 - 3s - loss: 0.7484 - accuracy: 0.6659 - 3s/epoch - 34ms/step\n",
            "Epoch 1/2\n",
            "372/372 - 59s - loss: 0.8329 - accuracy: 0.6410 - 59s/epoch - 159ms/step\n",
            "Epoch 2/2\n",
            "372/372 - 56s - loss: 0.6827 - accuracy: 0.7100 - 56s/epoch - 151ms/step\n",
            "93/93 - 2s - loss: 0.7464 - accuracy: 0.6848 - 2s/epoch - 20ms/step\n",
            "Epoch 1/2\n",
            "372/372 - 65s - loss: 0.8300 - accuracy: 0.6426 - 65s/epoch - 174ms/step\n",
            "Epoch 2/2\n",
            "372/372 - 59s - loss: 0.6778 - accuracy: 0.7107 - 59s/epoch - 159ms/step\n",
            "93/93 - 2s - loss: 0.7503 - accuracy: 0.6832 - 2s/epoch - 21ms/step\n",
            "Epoch 1/2\n",
            "372/372 - 62s - loss: 0.8353 - accuracy: 0.6430 - 62s/epoch - 168ms/step\n",
            "Epoch 2/2\n",
            "372/372 - 58s - loss: 0.6769 - accuracy: 0.7095 - 58s/epoch - 156ms/step\n",
            "93/93 - 2s - loss: 0.7493 - accuracy: 0.6798 - 2s/epoch - 22ms/step\n",
            "Epoch 1/2\n",
            "372/372 - 60s - loss: 0.8261 - accuracy: 0.6395 - 60s/epoch - 162ms/step\n",
            "Epoch 2/2\n",
            "372/372 - 57s - loss: 0.6701 - accuracy: 0.7171 - 57s/epoch - 152ms/step\n",
            "93/93 - 2s - loss: 0.7783 - accuracy: 0.6620 - 2s/epoch - 22ms/step\n",
            "186/186 - 40s - loss: 0.8398 - accuracy: 0.6371 - 40s/epoch - 213ms/step\n",
            "47/47 - 2s - loss: 0.7508 - accuracy: 0.6649 - 2s/epoch - 42ms/step\n",
            "186/186 - 40s - loss: 0.8402 - accuracy: 0.6406 - 40s/epoch - 213ms/step\n",
            "47/47 - 1s - loss: 0.7890 - accuracy: 0.6622 - 1s/epoch - 31ms/step\n",
            "186/186 - 40s - loss: 0.8557 - accuracy: 0.6290 - 40s/epoch - 213ms/step\n",
            "47/47 - 1s - loss: 0.7942 - accuracy: 0.6681 - 1s/epoch - 29ms/step\n",
            "186/186 - 39s - loss: 0.8457 - accuracy: 0.6367 - 39s/epoch - 212ms/step\n",
            "47/47 - 1s - loss: 0.7629 - accuracy: 0.6717 - 1s/epoch - 29ms/step\n",
            "186/186 - 41s - loss: 0.8517 - accuracy: 0.6343 - 41s/epoch - 218ms/step\n",
            "47/47 - 1s - loss: 0.7837 - accuracy: 0.6663 - 1s/epoch - 31ms/step\n",
            "Epoch 1/2\n",
            "186/186 - 40s - loss: 0.8553 - accuracy: 0.6373 - 40s/epoch - 216ms/step\n",
            "Epoch 2/2\n",
            "186/186 - 37s - loss: 0.6866 - accuracy: 0.7051 - 37s/epoch - 200ms/step\n",
            "47/47 - 1s - loss: 0.7488 - accuracy: 0.6799 - 1s/epoch - 30ms/step\n",
            "Epoch 1/2\n",
            "186/186 - 39s - loss: 0.8445 - accuracy: 0.6372 - 39s/epoch - 212ms/step\n",
            "Epoch 2/2\n",
            "186/186 - 35s - loss: 0.6948 - accuracy: 0.7038 - 35s/epoch - 187ms/step\n",
            "47/47 - 1s - loss: 0.7377 - accuracy: 0.6767 - 1s/epoch - 32ms/step\n",
            "Epoch 1/2\n",
            "186/186 - 40s - loss: 0.8471 - accuracy: 0.6353 - 40s/epoch - 216ms/step\n",
            "Epoch 2/2\n",
            "186/186 - 37s - loss: 0.6905 - accuracy: 0.7063 - 37s/epoch - 200ms/step\n",
            "47/47 - 1s - loss: 0.7569 - accuracy: 0.6934 - 1s/epoch - 31ms/step\n",
            "Epoch 1/2\n",
            "186/186 - 40s - loss: 0.8475 - accuracy: 0.6359 - 40s/epoch - 214ms/step\n",
            "Epoch 2/2\n",
            "186/186 - 37s - loss: 0.6797 - accuracy: 0.7073 - 37s/epoch - 201ms/step\n",
            "47/47 - 1s - loss: 0.7685 - accuracy: 0.6733 - 1s/epoch - 30ms/step\n",
            "Epoch 1/2\n",
            "186/186 - 40s - loss: 0.8383 - accuracy: 0.6378 - 40s/epoch - 213ms/step\n",
            "Epoch 2/2\n",
            "186/186 - 35s - loss: 0.6793 - accuracy: 0.7111 - 35s/epoch - 190ms/step\n",
            "47/47 - 2s - loss: 0.7733 - accuracy: 0.6674 - 2s/epoch - 33ms/step\n",
            "Epoch 1/2\n",
            "233/233 - 50s - loss: 0.8283 - accuracy: 0.6395 - 50s/epoch - 214ms/step\n",
            "Epoch 2/2\n",
            "233/233 - 47s - loss: 0.6794 - accuracy: 0.7115 - 47s/epoch - 203ms/step\n",
            "Best: 0.678143 using {'batch_size': 40, 'epochs': 2}\n"
          ]
        }
      ],
      "source": [
        "from keras.wrappers.scikit_learn import KerasClassifier #importing Keras classifier\n",
        "from sklearn.model_selection import GridSearchCV #importing Grid search CV\n",
        "\n",
        "model = KerasClassifier(build_fn=createmodel,verbose=2) #initiating model to test performance by applying multiple hyper parameters\n",
        "batch_size= [10, 20, 40] #hyper parameter batch_size\n",
        "epochs = [1, 2] #hyper parameter no. of epochs\n",
        "param_grid= {'batch_size':batch_size, 'epochs':epochs} #creating dictionary for batch size, no. of epochs\n",
        "grid  = GridSearchCV(estimator=model, param_grid=param_grid) #Applying dictionary with hyper parameters\n",
        "grid_result= grid.fit(X_train,Y_train) #Fitting the model\n",
        "# summarize results\n",
        "print(\"Best: %f using %s\" % (grid_result.best_score_, grid_result.best_params_)) #best score, best hyper parameters"
      ]
    }
  ],
  "metadata": {
    "colab": {
      "provenance": []
    },
    "kernelspec": {
      "display_name": "Python 3",
      "name": "python3"
    },
    "language_info": {
      "name": "python"
    }
  },
  "nbformat": 4,
  "nbformat_minor": 0
}